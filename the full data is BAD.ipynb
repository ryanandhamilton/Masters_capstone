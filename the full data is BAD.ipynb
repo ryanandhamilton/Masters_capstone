{
 "cells": [
  {
   "cell_type": "code",
   "execution_count": 1,
   "id": "a998d577",
   "metadata": {},
   "outputs": [],
   "source": [
    "import numpy as np\n",
    "import pandas as pd\n",
    "import matplotlib.pyplot as plt\n",
    "import seaborn as sns\n",
    "import datetime\n",
    "from meteostat import Point, Daily\n",
    "pd.set_option('display.max_columns', None)"
   ]
  },
  {
   "cell_type": "code",
   "execution_count": 8,
   "id": "14acdfb2",
   "metadata": {},
   "outputs": [],
   "source": [
    "data = pd.read_csv('C://Users//ryana//Downloads//constructiondata//out1.csv')"
   ]
  },
  {
   "cell_type": "code",
   "execution_count": 23,
   "id": "61ec3242",
   "metadata": {},
   "outputs": [
    {
     "data": {
      "text/plain": [
       "Unnamed: 0          0\n",
       "Start_Lat           0\n",
       "Start_Lng           0\n",
       "Start_Time          0\n",
       "ID                  0\n",
       "Severity            0\n",
       "tavg           643223\n",
       "prcp          1423396\n",
       "dtype: int64"
      ]
     },
     "execution_count": 23,
     "metadata": {},
     "output_type": "execute_result"
    }
   ],
   "source": [
    "data.isna().sum()"
   ]
  },
  {
   "cell_type": "code",
   "execution_count": 11,
   "id": "51da7800",
   "metadata": {},
   "outputs": [
    {
     "data": {
      "text/plain": [
       "Unnamed: 0    0.000000\n",
       "Start_Lat     0.000000\n",
       "Start_Lng     0.000000\n",
       "Start_Time    0.000000\n",
       "ID            0.000000\n",
       "Severity      0.000000\n",
       "tavg          0.157091\n",
       "prcp          0.347628\n",
       "dtype: float64"
      ]
     },
     "execution_count": 11,
     "metadata": {},
     "output_type": "execute_result"
    }
   ],
   "source": [
    "data.isna().sum()/len(data)"
   ]
  }
 ],
 "metadata": {
  "kernelspec": {
   "display_name": "Python 3 (ipykernel)",
   "language": "python",
   "name": "python3"
  },
  "language_info": {
   "codemirror_mode": {
    "name": "ipython",
    "version": 3
   },
   "file_extension": ".py",
   "mimetype": "text/x-python",
   "name": "python",
   "nbconvert_exporter": "python",
   "pygments_lexer": "ipython3",
   "version": "3.9.13"
  }
 },
 "nbformat": 4,
 "nbformat_minor": 5
}
